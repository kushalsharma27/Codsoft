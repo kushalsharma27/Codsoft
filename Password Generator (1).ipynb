{
 "cells": [
  {
   "cell_type": "code",
   "execution_count": 5,
   "id": "7f3b45f2-6916-4bf0-b139-078c265086ea",
   "metadata": {},
   "outputs": [],
   "source": [
    "import tkinter as tk\n",
    "import random\n",
    "import string\n",
    "\n",
    "def generate_password():\n",
    "    password_length = int(length_entry.get())\n",
    "    password_characters = string.ascii_letters + string.digits + string.punctuation\n",
    "    generated_password = ''.join(random.choice(password_characters) for _ in range(password_length))\n",
    "    password_var.set(generated_password)\n",
    "\n",
    "\n",
    "root = tk.Tk()\n",
    "root.title(\"Password Generator\")\n",
    "\n",
    "\n",
    "length_label = tk.Label(root, text=\"Password Length:\")\n",
    "length_label.pack(pady=10)\n",
    "\n",
    "length_entry = tk.Entry(root)\n",
    "length_entry.pack()\n",
    "\n",
    "\n",
    "generate_button = tk.Button(root, text=\"Generate Password\", command=generate_password)\n",
    "generate_button.pack(pady=10)\n",
    "\n",
    "\n",
    "password_var = tk.StringVar()\n",
    "password_label = tk.Label(root, textvariable=password_var)\n",
    "password_label.pack()\n",
    "\n",
    "\n",
    "root.mainloop()\n"
   ]
  },
  {
   "cell_type": "code",
   "execution_count": null,
   "id": "f68541b6-4876-4725-b5d5-9c333407ccc0",
   "metadata": {},
   "outputs": [],
   "source": []
  }
 ],
 "metadata": {
  "kernelspec": {
   "display_name": "Python 3 (ipykernel)",
   "language": "python",
   "name": "python3"
  },
  "language_info": {
   "codemirror_mode": {
    "name": "ipython",
    "version": 3
   },
   "file_extension": ".py",
   "mimetype": "text/x-python",
   "name": "python",
   "nbconvert_exporter": "python",
   "pygments_lexer": "ipython3",
   "version": "3.11.4"
  }
 },
 "nbformat": 4,
 "nbformat_minor": 5
}
