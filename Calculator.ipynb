{
 "cells": [
  {
   "cell_type": "code",
   "execution_count": 2,
   "id": "06d03408-d281-4ba8-b393-b0e1f4cee20a",
   "metadata": {},
   "outputs": [],
   "source": [
    "import tkinter as tk\n",
    "\n",
    "# Function to update the display\n",
    "def update_display(value):\n",
    "    current = display_var.get()\n",
    "    display_var.set(current + str(value))\n",
    "\n",
    "# Function to perform calculations\n",
    "def calculate():\n",
    "    try:\n",
    "        result = eval(display_var.get())\n",
    "        display_var.set(result)\n",
    "    except:\n",
    "        display_var.set(\"Error\")\n",
    "\n",
    "# Function to clear the display\n",
    "def clear():\n",
    "    display_var.set(\"\")\n",
    "\n",
    "# Create the main window\n",
    "root = tk.Tk()\n",
    "root.title(\"Calculator\")\n",
    "\n",
    "# Create a variable to store the display value\n",
    "display_var = tk.StringVar()\n",
    "\n",
    "# Create the display widget\n",
    "display = tk.Entry(root, textvariable=display_var, font=(\"Helvetica\", 20), justify=\"right\")\n",
    "display.grid(row=0, column=0, columnspan=4)\n",
    "\n",
    "# Create the number and operator buttons\n",
    "buttons = [\n",
    "    '7', '8', '9', '/',\n",
    "    '4', '5', '6', '*',\n",
    "    '1', '2', '3', '-',\n",
    "    '0', '.', '=', '+'\n",
    "]\n",
    "\n",
    "row_val = 1\n",
    "col_val = 0\n",
    "\n",
    "for button in buttons:\n",
    "    tk.Button(root, text=button, padx=20, pady=20, font=(\"Helvetica\", 15),\n",
    "              command=lambda b=button: update_display(b) if b != '=' else calculate()).grid(row=row_val, column=col_val)\n",
    "    col_val += 1\n",
    "    if col_val > 3:\n",
    "        col_val = 0\n",
    "        row_val += 1\n",
    "\n",
    "# Clear button\n",
    "tk.Button(root, text=\"C\", padx=20, pady=20, font=(\"Helvetica\", 15), command=clear).grid(row=row_val, column=col_val)\n",
    "\n",
    "# Start the GUI event loop\n",
    "root.mainloop()"
   ]
  }
 ],
 "metadata": {
  "kernelspec": {
   "display_name": "Python 3 (ipykernel)",
   "language": "python",
   "name": "python3"
  },
  "language_info": {
   "codemirror_mode": {
    "name": "ipython",
    "version": 3
   },
   "file_extension": ".py",
   "mimetype": "text/x-python",
   "name": "python",
   "nbconvert_exporter": "python",
   "pygments_lexer": "ipython3",
   "version": "3.11.4"
  }
 },
 "nbformat": 4,
 "nbformat_minor": 5
}
